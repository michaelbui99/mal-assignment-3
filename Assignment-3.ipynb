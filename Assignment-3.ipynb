{
 "cells": [
  {
   "cell_type": "markdown",
   "metadata": {},
   "source": [
    "# Loading data"
   ]
  },
  {
   "cell_type": "code",
   "execution_count": null,
   "metadata": {},
   "outputs": [],
   "source": []
  },
  {
   "cell_type": "code",
   "execution_count": null,
   "metadata": {},
   "outputs": [],
   "source": []
  },
  {
   "cell_type": "code",
   "execution_count": null,
   "metadata": {},
   "outputs": [],
   "source": []
  },
  {
   "cell_type": "code",
   "execution_count": null,
   "metadata": {},
   "outputs": [],
   "source": []
  },
  {
   "cell_type": "code",
   "execution_count": null,
   "metadata": {},
   "outputs": [],
   "source": []
  },
  {
   "cell_type": "code",
   "execution_count": null,
   "metadata": {},
   "outputs": [],
   "source": []
  },
  {
   "cell_type": "code",
   "execution_count": null,
   "metadata": {},
   "outputs": [],
   "source": []
  },
  {
   "cell_type": "code",
   "execution_count": null,
   "metadata": {},
   "outputs": [],
   "source": [
    "import numpy as np\n",
    "import pandas as pd\n",
    "import matplotlib.pyplot as plt\n",
    "import seaborn as sns"
   ]
  },
  {
   "cell_type": "code",
   "execution_count": null,
   "metadata": {},
   "outputs": [],
   "source": [
    "# Loading meso data\n",
    "data_meso_borglum = pd.read_csv(\"./data/Borglum/meso_Borglum.csv\")\n",
    "data_meso_risoe= pd.read_csv(\"./data/Risoe/meso_Risoe.csv\")"
   ]
  },
  {
   "cell_type": "code",
   "execution_count": null,
   "metadata": {},
   "outputs": [],
   "source": [
    "# Loading mast data\n",
    "import xarray as xr\n",
    "\n",
    "ds_borglum = xr.open_dataset('data/Borglum/borglum_all.nc')\n",
    "data_mast_borglum = ds_borglum.to_dataframe()\n",
    "\n",
    "ds_risoe = xr.open_dataset('data/Risoe/risoe_m_all.nc')\n",
    "data_mast_risoe = ds_risoe.to_dataframe()"
   ]
  },
  {
   "cell_type": "code",
   "execution_count": null,
   "metadata": {},
   "outputs": [],
   "source": [
    "data_mast_borglum.head()"
   ]
  },
  {
   "cell_type": "code",
   "execution_count": null,
   "metadata": {},
   "outputs": [],
   "source": [
    "data_mast_risoe.head()"
   ]
  },
  {
   "cell_type": "code",
   "execution_count": null,
   "metadata": {},
   "outputs": [],
   "source": [
    "data_meso_borglum.head()"
   ]
  },
  {
   "cell_type": "code",
   "execution_count": null,
   "metadata": {},
   "outputs": [],
   "source": [
    "data_meso_borglum.columns"
   ]
  },
  {
   "cell_type": "code",
   "execution_count": null,
   "metadata": {},
   "outputs": [],
   "source": [
    "data_meso_borglum[\"HGT\"].value_counts()"
   ]
  },
  {
   "cell_type": "code",
   "execution_count": null,
   "metadata": {},
   "outputs": [],
   "source": [
    "data_meso_risoe.head()"
   ]
  },
  {
   "cell_type": "markdown",
   "metadata": {},
   "source": [
    "# Preprocessing"
   ]
  },
  {
   "cell_type": "code",
   "execution_count": null,
   "metadata": {},
   "outputs": [],
   "source": [
    "# Missing data for meso time series - borglum\n",
    "from pandas.io.formats.info import DataFrameInfo\n",
    "row_count_borglum, col_count_risoe = data_meso_borglum.shape\n",
    "info_meso_borglum = DataFrameInfo(data = data_meso_borglum)\n",
    "info_df_meso_borglum= pd.DataFrame(\n",
    "    {'Non-Null Count': info_meso_borglum.non_null_counts, 'Dtype': info_meso_borglum.dtypes}\n",
    ")\n",
    "\n",
    "# Calculating missing data per column. \n",
    "info_df_meso_borglum['Missing Count'] = row_count_borglum- info_df_meso_borglum['Non-Null Count']\n",
    "info_df_meso_borglum['Missing Ratio'] = (info_df_meso_borglum['Missing Count'] / row_count_borglum).astype(float)\n",
    "# Sorting missing data from highest % to lowest %\n",
    "info_df_meso_borglum.sort_values(by=['Non-Null Count'], ascending=True)"
   ]
  },
  {
   "cell_type": "code",
   "execution_count": null,
   "metadata": {},
   "outputs": [],
   "source": [
    "# Missing data for meso time series - risoe\n",
    "row_count_meso_risoe, col_count_meso_risoe = data_meso_risoe.shape\n",
    "info_meso_risoe = DataFrameInfo(data = data_meso_risoe)\n",
    "info_df_meso_risoe = pd.DataFrame(\n",
    "    {'Non-Null Count': info_meso_risoe.non_null_counts, 'Dtype': info_meso_risoe.dtypes}\n",
    ")\n",
    "\n",
    "# Calculating missing data per column. \n",
    "info_df_meso_risoe['Missing Count'] = row_count_meso_risoe- info_df_meso_risoe['Non-Null Count']\n",
    "info_df_meso_risoe['Missing Ratio'] = (info_df_meso_risoe['Missing Count'] / row_count_meso_risoe).astype(float)\n",
    "# Sorting missing data from highest % to lowest %\n",
    "info_df_meso_risoe.sort_values(by=['Non-Null Count'], ascending=True)"
   ]
  },
  {
   "cell_type": "code",
   "execution_count": null,
   "metadata": {},
   "outputs": [],
   "source": [
    "# Missing data for mast data - borglum\n",
    "row_count_mast_borglum, col_count_mast_borglum = data_mast_borglum.shape\n",
    "info_mast_borglum = DataFrameInfo(data = data_mast_borglum)\n",
    "info_df_mast_borglum = pd.DataFrame(\n",
    "    {'Non-Null Count': info_mast_borglum.non_null_counts, 'Dtype': info_mast_borglum.dtypes}\n",
    ")\n",
    "\n",
    "# Calculating missing data per column. \n",
    "info_df_mast_borglum['Missing Count'] = row_count_mast_borglum - info_df_mast_borglum['Non-Null Count']\n",
    "info_df_mast_borglum['Missing Ratio'] = (info_df_mast_borglum['Missing Count'] / row_count_mast_borglum).astype(float)\n",
    "# Sorting missing data from highest % to lowest %\n",
    "info_df_mast_borglum.sort_values(by=['Non-Null Count'], ascending=True)"
   ]
  },
  {
   "cell_type": "code",
   "execution_count": null,
   "metadata": {},
   "outputs": [],
   "source": [
    "#  Missing data for mast data - risoe\n",
    "row_count_mast_risoe, col_count_mast_risoe = data_mast_risoe.shape\n",
    "info_mast_risoe = DataFrameInfo(data = data_mast_risoe)\n",
    "info_df_mast_risoe = pd.DataFrame(\n",
    "    {'Non-Null Count': info_mast_risoe.non_null_counts, 'Dtype': info_mast_risoe.dtypes}\n",
    ")\n",
    "\n",
    "# Calculating missing data per column. \n",
    "info_df_mast_risoe['Missing Count'] = row_count_mast_risoe - info_df_mast_risoe['Non-Null Count']\n",
    "info_df_mast_risoe['Missing Ratio'] = (info_df_mast_risoe['Missing Count'] / row_count_mast_risoe).astype(float)\n",
    "# Sorting missing data from highest % to lowest %\n",
    "info_df_mast_risoe.sort_values(by=['Non-Null Count'], ascending=True)"
   ]
  },
  {
   "cell_type": "code",
   "execution_count": null,
   "metadata": {},
   "outputs": [],
   "source": [
    "# Removing all features not related to wind speed or wind direction\n",
    "data_meso_risoe = data_meso_risoe[['TIMESTAMP', 'WSP060',\n",
    "       'WSP080', 'WSP100', 'WSP120', 'WSP140', 'WSP160', 'WSP180', 'WSP200',\n",
    "       'WSP220', 'WDIR060', 'WDIR080', 'WDIR100', 'WDIR120', 'WDIR140',\n",
    "       'WDIR160', 'WDIR180', 'WDIR200', 'WDIR220'\n",
    "       ]]\n",
    "data_meso_borglum = data_meso_borglum[['TIMESTAMP',\n",
    "       'WSP060',\n",
    "       'WSP080', 'WSP100', 'WSP120', 'WSP140', 'WSP160', 'WSP180', 'WSP200',\n",
    "       'WSP220', 'WDIR060', 'WDIR080', 'WDIR100', 'WDIR120', 'WDIR140',\n",
    "       'WDIR160', 'WDIR180', 'WDIR200', 'WDIR220']]\n",
    "\n",
    "\n",
    "data_mast_risoe = data_mast_risoe[['ws44', 'ws44_qc', 'ws77', 'ws77_qc', 'ws125', 'ws125_qc', 'wd77',\n",
    "       'wd77_qc', 'wd125', 'wd125_qc']]\n",
    "data_mast_borglum = data_mast_borglum[['ws32', 'ws32_qc', 'ws20', 'ws20_qc', 'ws10', 'ws10_qc', 'wd10',\n",
    "       'wd10_qc', 'wd32', 'wd32_qc' \n",
    "       ]]"
   ]
  },
  {
   "cell_type": "code",
   "execution_count": null,
   "metadata": {},
   "outputs": [],
   "source": [
    "# Converting meso timestamp columns to datetime\n",
    "data_meso_borglum[\"TIMESTAMP\"] = pd.to_datetime(data_meso_borglum[\"TIMESTAMP\"])\n",
    "data_meso_risoe[\"TIMESTAMP\"] = pd.to_datetime(data_meso_risoe[\"TIMESTAMP\"])"
   ]
  },
  {
   "cell_type": "code",
   "execution_count": null,
   "metadata": {},
   "outputs": [],
   "source": [
    "# Removing any rows with negative value\n",
    "\n",
    "for col in data_meso_risoe.drop(\"TIMESTAMP\", axis=1, inplace=False).columns.values:\n",
    "    data_meso_risoe = data_meso_risoe[data_meso_risoe[col] >= 0]\n",
    "\n",
    "for col in data_meso_borglum.drop(\"TIMESTAMP\",axis=1, inplace=False).columns.values:\n",
    "    data_meso_borglum = data_meso_borglum[data_meso_borglum[col] >= 0]\n",
    "\n",
    "for col in data_mast_risoe.columns.values:\n",
    "    data_mast_riose = data_mast_risoe[data_mast_risoe[col] >= 0]\n",
    "\n",
    "for col in data_mast_borglum.columns.values:\n",
    "    data_mast_borglum= data_mast_borglum[data_mast_borglum[col] >= 0]\n",
    "\n",
    "    "
   ]
  },
  {
   "cell_type": "code",
   "execution_count": null,
   "metadata": {},
   "outputs": [],
   "source": [
    "# Ensuring all dirtections are between 0 and 360 degrees\n",
    "meso_risoe_dir_cols = ['WDIR060', 'WDIR080', 'WDIR100', 'WDIR120', 'WDIR140',\n",
    "       'WDIR160', 'WDIR180', 'WDIR200', 'WDIR220']\n",
    "\n",
    "meso_borglum_dir_cols = ['WDIR060', 'WDIR080', 'WDIR100', 'WDIR120', 'WDIR140',\n",
    "       'WDIR160', 'WDIR180', 'WDIR200', 'WDIR220']\n",
    "\n",
    "mast_risoe_dir_cols = ['wd77',\n",
    "       'wd77_qc', 'wd125', 'wd125_qc']\n",
    "\n",
    "mast_borglum_dir_cols = ['wd10',\n",
    "       'wd10_qc', 'wd32', 'wd32_qc' \n",
    "]\n",
    "\n",
    "\n",
    "for col in meso_risoe_dir_cols:\n",
    "    data_meso_risoe[col] = data_meso_risoe[col].apply(lambda x: x % 360)\n",
    "\n",
    "for col in meso_borglum_dir_cols:\n",
    "    data_meso_borglum[col] = data_meso_borglum[col].apply(lambda x: x % 360)\n",
    "\n",
    "for col in mast_risoe_dir_cols:\n",
    "    data_mast_risoe[col] = data_mast_risoe[col].apply(lambda x: x % 360)\n",
    "\n",
    "for col in mast_borglum_dir_cols:\n",
    "    data_mast_borglum[col] = data_mast_borglum[col].apply(lambda x: x % 360)"
   ]
  },
  {
   "cell_type": "code",
   "execution_count": null,
   "metadata": {},
   "outputs": [],
   "source": [
    "import json\n",
    "mast_risoe_years = data_mast_riose.index.map(lambda x: x.year).unique()\n",
    "mast_risoe_speed_columns = list(filter(lambda x: \"ws\" in x and \"qc\" not in x, data_mast_risoe.columns.values))\n",
    "mast_risoe_years\n",
    "\n",
    "# TODO: REVISIT THIS. FOR NOW WE GO WITH WS77 FOR RISOE AND WS32 FOR BORGLUM\n",
    "\n",
    "mapping = {}\n",
    "\n",
    "for feature in mast_risoe_speed_columns:\n",
    "    if feature not in mapping:\n",
    "        mapping[feature] = {}\n",
    "\n",
    "    for year in mast_risoe_years.values:\n",
    "        rows_in_year = data_mast_risoe.loc[f'{year}']\n",
    "        if year not in mapping[feature]:\n",
    "            mapping[feature][year] = pd.DataFrame()\n",
    "\n",
    "        months_in_year = rows_in_year.index.map(lambda x: x.month).unique()\n",
    "\n",
    "        for month in months_in_year.values:\n",
    "            rows_in_year_and_month = data_mast_riose.loc[f'{year}-{month}']\n",
    "            mapping[feature][year][month] = pd.Series(rows_in_year_and_month[feature].count())\n",
    "\n",
    "        data = mapping[feature][year]\n",
    "        months  =  data.columns.values\n",
    "        counts = data.iloc[0].values\n",
    "        fig,ax = plt.subplots()\n",
    "\n",
    "        ax.bar(months, counts)\n",
    "        ax.set_title(f\"{year} - {feature}\")\n",
    "        ax.set_ylabel(f'{feature} count')\n",
    "        ax.set_xlabel('Month')\n",
    "        plt.show()\n"
   ]
  },
  {
   "cell_type": "code",
   "execution_count": null,
   "metadata": {},
   "outputs": [],
   "source": [
    "# We chose the meso-signals closest in height to the mast-data-signal for risoe, \n",
    "#since the data sets are close in altitude.\n",
    "# For risoe we chose ws77, so we choose WSP080 from the meso data set.\n",
    "mast_signals_risoe = data_mast_risoe[\"ws77\"]\n",
    "meso_signals_risoe = data_meso_risoe[\"WSP060\"]"
   ]
  },
  {
   "cell_type": "markdown",
   "metadata": {},
   "source": [
    "For borglum we will do an interpolation on the meso data set between WSP060 and WSP077, since the heights differ signifantly in our opinion."
   ]
  },
  {
   "cell_type": "code",
   "execution_count": null,
   "metadata": {},
   "outputs": [],
   "source": [
    "data_mast_borglum.loc['2000-01-01']"
   ]
  },
  {
   "cell_type": "code",
   "execution_count": null,
   "metadata": {},
   "outputs": [],
   "source": [
    "data_meso_borglum.loc[data_meso_borglum['TIMESTAMP'] >= '2000-01-01']"
   ]
  },
  {
   "cell_type": "code",
   "execution_count": null,
   "metadata": {},
   "outputs": [],
   "source": [
    "\n",
    "interpolation_borglum_df = data_meso_borglum.copy()\n",
    "interpolation_borglum_df['WSP077'] = (((interpolation_borglum_df['WSP080']-interpolation_borglum_df['WSP060']) / 20) * 17) + interpolation_borglum_df['WSP060']\n",
    "interpolation_borglum_df.head()"
   ]
  },
  {
   "cell_type": "code",
   "execution_count": null,
   "metadata": {},
   "outputs": [],
   "source": [
    "from datetime import datetime\n",
    "\n",
    "# Convertin risoe mast data from danish time to UTC (accounting for summer time as well)\n",
    "data_mast_risoe.index = data_mast_risoe.index.map(lambda x: x + pd.DateOffset(hours=-1) if x < datetime(year=x.year, month=3, day=26, hour=2) and x > datetime(year=x.year, month=10, day=29, hour=3) else x + pd.DateOffset(hours=-2)).tz_localize('UTC').tz_convert('Europe/Copenhagen')\n",
    "data_mast_risoe.index\n"
   ]
  },
  {
   "cell_type": "code",
   "execution_count": null,
   "metadata": {},
   "outputs": [],
   "source": [
    "data_mast_risoe.iloc[150000]"
   ]
  },
  {
   "cell_type": "code",
   "execution_count": null,
   "metadata": {},
   "outputs": [],
   "source": [
    "# Convertin risoe mast data from danish time to UTC (accounting for summer time as well)\n",
    "data_mast_borglum.index = data_mast_borglum.index.map(lambda x: x + pd.DateOffset(hours=-1) if x < datetime(year=x.year, month=3, day=26, hour=2) and x > datetime(year=x.year, month=10, day=29, hour=3) else x + pd.DateOffset(hours=-2)).tz_localize('UTC').tz_convert('Europe/Copenhagen')\n",
    "data_mast_borglum.index\n"
   ]
  },
  {
   "cell_type": "code",
   "execution_count": null,
   "metadata": {},
   "outputs": [],
   "source": [
    "\n",
    "data_mast_borglum.iloc[160_000]"
   ]
  },
  {
   "cell_type": "code",
   "execution_count": null,
   "metadata": {},
   "outputs": [],
   "source": [
    "data_mast_risoe.tail(n=100)"
   ]
  },
  {
   "cell_type": "code",
   "execution_count": null,
   "metadata": {},
   "outputs": [],
   "source": []
  },
  {
   "cell_type": "markdown",
   "metadata": {},
   "source": []
  },
  {
   "cell_type": "code",
   "execution_count": null,
   "metadata": {},
   "outputs": [],
   "source": [
    "data_mast_riose[\"wd77\"].value_counts()"
   ]
  },
  {
   "cell_type": "code",
   "execution_count": null,
   "metadata": {},
   "outputs": [],
   "source": [
    "from scipy.stats import circmean\n",
    "dt_Copy = data_mast_riose.copy()\n",
    "dt_Copy = dt_Copy.resample('1H').mean()\n"
   ]
  },
  {
   "cell_type": "code",
   "execution_count": null,
   "metadata": {},
   "outputs": [],
   "source": [
    "dt_Copy.copy()\n",
    "data_mast_risoe_resampled = pd.DataFrame()\n",
    "data_mast_risoe_resampled[\"ws77\"] = dt_Copy[\"ws77\"]"
   ]
  },
  {
   "cell_type": "code",
   "execution_count": null,
   "metadata": {},
   "outputs": [],
   "source": [
    "data_mast_risoe.loc[\"1995-11-20 15\"]"
   ]
  },
  {
   "cell_type": "code",
   "execution_count": null,
   "metadata": {},
   "outputs": [],
   "source": [
    "# We use the circular mean instead of arithemtic mean to account for \n",
    "# the circular nature of the turbine direction. E.g. it could rotate from 5 deg -> 0 deg -> 355 deg\n",
    "def circmean_aggregation(arr: np.array):\n",
    "    return np.rad2deg(circmean(np.deg2rad(arr)))\n",
    "\n",
    "dt_Copy = data_mast_riose.copy()\n",
    "dt_Copy = dt_Copy.resample('1H').apply(circmean_aggregation)"
   ]
  },
  {
   "cell_type": "code",
   "execution_count": null,
   "metadata": {},
   "outputs": [],
   "source": [
    "data_mast_riose"
   ]
  },
  {
   "cell_type": "code",
   "execution_count": null,
   "metadata": {},
   "outputs": [],
   "source": [
    "# Finding rows where the direction changed significantly to check if the resampling on wind direction\n",
    "# is reasonable.\n",
    "data_mast_risoe_years = data_mast_risoe.index.map(lambda x: x.year).unique()\n",
    "res = []\n",
    "for year in data_mast_risoe_years:\n",
    "    data_mast_risoe_months_in_year = data_mast_risoe.loc[f\"{year}\"].index.map(lambda x: x.month).unique()\n",
    "    for month in data_mast_risoe_months_in_year:\n",
    "        data_mast_risoe_days_in_month = data_mast_risoe.loc[f\"{year}-{month}\"].index.map(lambda x: x.day).unique()\n",
    "        for day in data_mast_risoe_days_in_month:\n",
    "            data_mast_risoe_hours_in_day = data_mast_risoe.loc[f'{year}-{month}-{day}'].index.map(lambda x: x.hour).unique()\n",
    "            for hour in data_mast_risoe_hours_in_day:\n",
    "                rows = data_mast_risoe.loc[f\"{year}-{month}-{day} {str(hour).zfill(2)}\"]\n",
    "                diff = abs(rows.iloc[0][\"wd77\"] - rows.iloc[-1][\"wd77\"])\n",
    "                if (diff > 160):\n",
    "                    res.append(f\"{year}-{month}-{day} {hour}\")\n",
    "                    print(res)\n",
    "\n",
    "print(res)\n"
   ]
  },
  {
   "cell_type": "code",
   "execution_count": null,
   "metadata": {},
   "outputs": [],
   "source": [
    "# Example of a row where the turbine rotates to the left and crosses into 350 deg and then rotates to the right where it goes to 3 deg and then rotates left again to 353 deg.\n",
    "# 14 deg -> 350 deg -> 3 deg -> 353 deg\n",
    "data_mast_risoe.loc['1995-12-9 21']"
   ]
  },
  {
   "cell_type": "code",
   "execution_count": null,
   "metadata": {},
   "outputs": [],
   "source": [
    "print(f\"Arithmetic wd77 mean: {data_mast_risoe.loc['1995-12-9 21']['wd77'].mean()}\")\n"
   ]
  },
  {
   "cell_type": "code",
   "execution_count": null,
   "metadata": {},
   "outputs": [],
   "source": [
    "print(f\"Circular mean: {dt_Copy.loc['1995-12-9 21']['wd77']}\")"
   ]
  },
  {
   "cell_type": "code",
   "execution_count": null,
   "metadata": {},
   "outputs": [],
   "source": [
    "data_mast_risoe_resampled['wd77'] = dt_Copy['wd77']"
   ]
  },
  {
   "cell_type": "code",
   "execution_count": null,
   "metadata": {},
   "outputs": [],
   "source": [
    "# Resampled data set with frequency one 1 hour \n",
    "# ws77 is the mean of the wind speed within the hour.\n",
    "# wd77 is the circular mean of the wind direction within the hour.\n",
    "data_mast_risoe_resampled"
   ]
  },
  {
   "cell_type": "code",
   "execution_count": null,
   "metadata": {},
   "outputs": [],
   "source": [
    "def circmean_aggregation(arr: np.array):\n",
    "    return np.rad2deg(circmean(np.deg2rad(arr)))\n",
    "\n",
    "def resample_mast_data(df: pd.DataFrame, wind_speed_column: str, wind_direction_column: str) -> pd.DataFrame:\n",
    "    df_resampled = pd.DataFrame()\n",
    "    df_copy = df.copy()\n",
    "\n",
    "    # Resampling wind speed\n",
    "    df_copy = df_copy.resample('1H').mean()\n",
    "    df_resampled[wind_speed_column] = df_copy[wind_speed_column]\n",
    "\n",
    "    # Resampling wind direction\n",
    "    df_copy = df.copy()\n",
    "    df_copy = df_copy.resample('1H').apply(circmean_aggregation)\n",
    "    df_resampled[wind_direction_column] = df_copy[wind_direction_column]\n",
    "\n",
    "    return df_resampled\n",
    "\n",
    "\n",
    "data_mast_riose_resampled = resample_mast_data(data_mast_riose, 'ws77', 'wd77')\n",
    "data_mast_borglum_resampled = resample_mast_data(data_mast_borglum, 'ws32', 'wd32')\n"
   ]
  },
  {
   "cell_type": "code",
   "execution_count": null,
   "metadata": {},
   "outputs": [],
   "source": [
    "data_mast_riose_resampled"
   ]
  },
  {
   "cell_type": "code",
   "execution_count": null,
   "metadata": {},
   "outputs": [],
   "source": [
    "data_mast_borglum_resampled"
   ]
  },
  {
   "cell_type": "code",
   "execution_count": null,
   "metadata": {},
   "outputs": [],
   "source": [
    "# Converting timestamp strings to datetime\n",
    "data_meso_risoe['TIMESTAMP'] = pd.to_datetime(data_meso_risoe['TIMESTAMP'])\n",
    "data_meso_borglum['TIMESTAMP'] = pd.to_datetime(data_meso_borglum['TIMESTAMP'])"
   ]
  },
  {
   "cell_type": "code",
   "execution_count": 180,
   "metadata": {},
   "outputs": [
    {
     "data": {
      "text/html": [
       "<div>\n",
       "<style scoped>\n",
       "    .dataframe tbody tr th:only-of-type {\n",
       "        vertical-align: middle;\n",
       "    }\n",
       "\n",
       "    .dataframe tbody tr th {\n",
       "        vertical-align: top;\n",
       "    }\n",
       "\n",
       "    .dataframe thead th {\n",
       "        text-align: right;\n",
       "    }\n",
       "</style>\n",
       "<table border=\"1\" class=\"dataframe\">\n",
       "  <thead>\n",
       "    <tr style=\"text-align: right;\">\n",
       "      <th></th>\n",
       "      <th>TIMESTAMP</th>\n",
       "      <th>WSP060</th>\n",
       "      <th>WSP080</th>\n",
       "      <th>WSP100</th>\n",
       "      <th>WSP120</th>\n",
       "      <th>WSP140</th>\n",
       "      <th>WSP160</th>\n",
       "      <th>WSP180</th>\n",
       "      <th>WSP200</th>\n",
       "      <th>WSP220</th>\n",
       "      <th>WDIR060</th>\n",
       "      <th>WDIR080</th>\n",
       "      <th>WDIR100</th>\n",
       "      <th>WDIR120</th>\n",
       "      <th>WDIR140</th>\n",
       "      <th>WDIR160</th>\n",
       "      <th>WDIR180</th>\n",
       "      <th>WDIR200</th>\n",
       "      <th>WDIR220</th>\n",
       "      <th>WSP077</th>\n",
       "    </tr>\n",
       "  </thead>\n",
       "  <tbody>\n",
       "    <tr>\n",
       "      <th>0</th>\n",
       "      <td>2000-01-01 07:00:00</td>\n",
       "      <td>9.12</td>\n",
       "      <td>9.67</td>\n",
       "      <td>10.17</td>\n",
       "      <td>10.63</td>\n",
       "      <td>11.09</td>\n",
       "      <td>11.55</td>\n",
       "      <td>12.00</td>\n",
       "      <td>12.45</td>\n",
       "      <td>12.89</td>\n",
       "      <td>193.41</td>\n",
       "      <td>194.42</td>\n",
       "      <td>195.49</td>\n",
       "      <td>196.61</td>\n",
       "      <td>197.86</td>\n",
       "      <td>199.19</td>\n",
       "      <td>200.58</td>\n",
       "      <td>202.12</td>\n",
       "      <td>203.56</td>\n",
       "      <td>9.5875</td>\n",
       "    </tr>\n",
       "    <tr>\n",
       "      <th>1</th>\n",
       "      <td>2000-01-01 08:00:00</td>\n",
       "      <td>9.10</td>\n",
       "      <td>9.62</td>\n",
       "      <td>10.11</td>\n",
       "      <td>10.56</td>\n",
       "      <td>11.01</td>\n",
       "      <td>11.46</td>\n",
       "      <td>11.92</td>\n",
       "      <td>12.39</td>\n",
       "      <td>12.87</td>\n",
       "      <td>191.73</td>\n",
       "      <td>192.50</td>\n",
       "      <td>193.32</td>\n",
       "      <td>194.17</td>\n",
       "      <td>195.16</td>\n",
       "      <td>196.24</td>\n",
       "      <td>197.43</td>\n",
       "      <td>198.82</td>\n",
       "      <td>200.15</td>\n",
       "      <td>9.5420</td>\n",
       "    </tr>\n",
       "    <tr>\n",
       "      <th>2</th>\n",
       "      <td>2000-01-01 09:00:00</td>\n",
       "      <td>9.13</td>\n",
       "      <td>9.64</td>\n",
       "      <td>10.05</td>\n",
       "      <td>10.37</td>\n",
       "      <td>10.77</td>\n",
       "      <td>11.24</td>\n",
       "      <td>11.71</td>\n",
       "      <td>12.18</td>\n",
       "      <td>12.65</td>\n",
       "      <td>206.20</td>\n",
       "      <td>206.94</td>\n",
       "      <td>207.60</td>\n",
       "      <td>208.19</td>\n",
       "      <td>209.12</td>\n",
       "      <td>210.27</td>\n",
       "      <td>211.53</td>\n",
       "      <td>213.00</td>\n",
       "      <td>214.41</td>\n",
       "      <td>9.5635</td>\n",
       "    </tr>\n",
       "    <tr>\n",
       "      <th>3</th>\n",
       "      <td>2000-01-01 10:00:00</td>\n",
       "      <td>8.24</td>\n",
       "      <td>8.72</td>\n",
       "      <td>9.17</td>\n",
       "      <td>9.60</td>\n",
       "      <td>10.04</td>\n",
       "      <td>10.48</td>\n",
       "      <td>10.87</td>\n",
       "      <td>11.18</td>\n",
       "      <td>11.48</td>\n",
       "      <td>228.57</td>\n",
       "      <td>229.83</td>\n",
       "      <td>231.49</td>\n",
       "      <td>233.44</td>\n",
       "      <td>236.35</td>\n",
       "      <td>239.97</td>\n",
       "      <td>243.79</td>\n",
       "      <td>248.15</td>\n",
       "      <td>252.29</td>\n",
       "      <td>8.6480</td>\n",
       "    </tr>\n",
       "    <tr>\n",
       "      <th>4</th>\n",
       "      <td>2000-01-01 11:00:00</td>\n",
       "      <td>9.78</td>\n",
       "      <td>10.65</td>\n",
       "      <td>11.40</td>\n",
       "      <td>12.05</td>\n",
       "      <td>12.64</td>\n",
       "      <td>13.18</td>\n",
       "      <td>13.70</td>\n",
       "      <td>14.19</td>\n",
       "      <td>14.67</td>\n",
       "      <td>290.79</td>\n",
       "      <td>291.49</td>\n",
       "      <td>292.18</td>\n",
       "      <td>292.87</td>\n",
       "      <td>293.61</td>\n",
       "      <td>294.38</td>\n",
       "      <td>295.20</td>\n",
       "      <td>296.10</td>\n",
       "      <td>296.97</td>\n",
       "      <td>10.5195</td>\n",
       "    </tr>\n",
       "    <tr>\n",
       "      <th>...</th>\n",
       "      <td>...</td>\n",
       "      <td>...</td>\n",
       "      <td>...</td>\n",
       "      <td>...</td>\n",
       "      <td>...</td>\n",
       "      <td>...</td>\n",
       "      <td>...</td>\n",
       "      <td>...</td>\n",
       "      <td>...</td>\n",
       "      <td>...</td>\n",
       "      <td>...</td>\n",
       "      <td>...</td>\n",
       "      <td>...</td>\n",
       "      <td>...</td>\n",
       "      <td>...</td>\n",
       "      <td>...</td>\n",
       "      <td>...</td>\n",
       "      <td>...</td>\n",
       "      <td>...</td>\n",
       "      <td>...</td>\n",
       "    </tr>\n",
       "    <tr>\n",
       "      <th>204715</th>\n",
       "      <td>2010-02-19 08:00:00</td>\n",
       "      <td>6.70</td>\n",
       "      <td>7.30</td>\n",
       "      <td>7.80</td>\n",
       "      <td>8.21</td>\n",
       "      <td>8.55</td>\n",
       "      <td>8.82</td>\n",
       "      <td>8.98</td>\n",
       "      <td>8.95</td>\n",
       "      <td>8.91</td>\n",
       "      <td>68.19</td>\n",
       "      <td>70.01</td>\n",
       "      <td>71.77</td>\n",
       "      <td>73.51</td>\n",
       "      <td>75.43</td>\n",
       "      <td>77.51</td>\n",
       "      <td>79.19</td>\n",
       "      <td>80.42</td>\n",
       "      <td>81.66</td>\n",
       "      <td>7.2100</td>\n",
       "    </tr>\n",
       "    <tr>\n",
       "      <th>204716</th>\n",
       "      <td>2010-02-19 09:00:00</td>\n",
       "      <td>7.19</td>\n",
       "      <td>7.71</td>\n",
       "      <td>8.11</td>\n",
       "      <td>8.40</td>\n",
       "      <td>8.70</td>\n",
       "      <td>9.00</td>\n",
       "      <td>9.22</td>\n",
       "      <td>9.28</td>\n",
       "      <td>9.34</td>\n",
       "      <td>65.14</td>\n",
       "      <td>65.91</td>\n",
       "      <td>66.75</td>\n",
       "      <td>67.66</td>\n",
       "      <td>69.26</td>\n",
       "      <td>71.39</td>\n",
       "      <td>73.91</td>\n",
       "      <td>77.21</td>\n",
       "      <td>80.33</td>\n",
       "      <td>7.6320</td>\n",
       "    </tr>\n",
       "    <tr>\n",
       "      <th>204717</th>\n",
       "      <td>2010-02-19 10:00:00</td>\n",
       "      <td>7.42</td>\n",
       "      <td>7.95</td>\n",
       "      <td>8.45</td>\n",
       "      <td>8.91</td>\n",
       "      <td>9.32</td>\n",
       "      <td>9.66</td>\n",
       "      <td>9.99</td>\n",
       "      <td>10.28</td>\n",
       "      <td>10.56</td>\n",
       "      <td>64.38</td>\n",
       "      <td>65.32</td>\n",
       "      <td>66.42</td>\n",
       "      <td>67.63</td>\n",
       "      <td>68.86</td>\n",
       "      <td>70.12</td>\n",
       "      <td>71.61</td>\n",
       "      <td>73.48</td>\n",
       "      <td>75.36</td>\n",
       "      <td>7.8705</td>\n",
       "    </tr>\n",
       "    <tr>\n",
       "      <th>204718</th>\n",
       "      <td>2010-02-19 11:00:00</td>\n",
       "      <td>8.71</td>\n",
       "      <td>9.34</td>\n",
       "      <td>9.85</td>\n",
       "      <td>10.27</td>\n",
       "      <td>10.65</td>\n",
       "      <td>11.00</td>\n",
       "      <td>11.32</td>\n",
       "      <td>11.59</td>\n",
       "      <td>11.85</td>\n",
       "      <td>66.31</td>\n",
       "      <td>67.12</td>\n",
       "      <td>67.86</td>\n",
       "      <td>68.56</td>\n",
       "      <td>69.32</td>\n",
       "      <td>70.14</td>\n",
       "      <td>71.02</td>\n",
       "      <td>72.03</td>\n",
       "      <td>73.09</td>\n",
       "      <td>9.2455</td>\n",
       "    </tr>\n",
       "    <tr>\n",
       "      <th>204719</th>\n",
       "      <td>2010-02-19 12:00:00</td>\n",
       "      <td>9.04</td>\n",
       "      <td>9.62</td>\n",
       "      <td>10.13</td>\n",
       "      <td>10.61</td>\n",
       "      <td>11.03</td>\n",
       "      <td>11.40</td>\n",
       "      <td>11.72</td>\n",
       "      <td>11.98</td>\n",
       "      <td>12.22</td>\n",
       "      <td>66.83</td>\n",
       "      <td>67.62</td>\n",
       "      <td>68.48</td>\n",
       "      <td>69.39</td>\n",
       "      <td>70.45</td>\n",
       "      <td>71.62</td>\n",
       "      <td>72.92</td>\n",
       "      <td>74.46</td>\n",
       "      <td>76.01</td>\n",
       "      <td>9.5330</td>\n",
       "    </tr>\n",
       "  </tbody>\n",
       "</table>\n",
       "<p>204720 rows × 20 columns</p>\n",
       "</div>"
      ],
      "text/plain": [
       "                 TIMESTAMP  WSP060  WSP080  WSP100  WSP120  WSP140  WSP160  \\\n",
       "0      2000-01-01 07:00:00    9.12    9.67   10.17   10.63   11.09   11.55   \n",
       "1      2000-01-01 08:00:00    9.10    9.62   10.11   10.56   11.01   11.46   \n",
       "2      2000-01-01 09:00:00    9.13    9.64   10.05   10.37   10.77   11.24   \n",
       "3      2000-01-01 10:00:00    8.24    8.72    9.17    9.60   10.04   10.48   \n",
       "4      2000-01-01 11:00:00    9.78   10.65   11.40   12.05   12.64   13.18   \n",
       "...                    ...     ...     ...     ...     ...     ...     ...   \n",
       "204715 2010-02-19 08:00:00    6.70    7.30    7.80    8.21    8.55    8.82   \n",
       "204716 2010-02-19 09:00:00    7.19    7.71    8.11    8.40    8.70    9.00   \n",
       "204717 2010-02-19 10:00:00    7.42    7.95    8.45    8.91    9.32    9.66   \n",
       "204718 2010-02-19 11:00:00    8.71    9.34    9.85   10.27   10.65   11.00   \n",
       "204719 2010-02-19 12:00:00    9.04    9.62   10.13   10.61   11.03   11.40   \n",
       "\n",
       "        WSP180  WSP200  WSP220  WDIR060  WDIR080  WDIR100  WDIR120  WDIR140  \\\n",
       "0        12.00   12.45   12.89   193.41   194.42   195.49   196.61   197.86   \n",
       "1        11.92   12.39   12.87   191.73   192.50   193.32   194.17   195.16   \n",
       "2        11.71   12.18   12.65   206.20   206.94   207.60   208.19   209.12   \n",
       "3        10.87   11.18   11.48   228.57   229.83   231.49   233.44   236.35   \n",
       "4        13.70   14.19   14.67   290.79   291.49   292.18   292.87   293.61   \n",
       "...        ...     ...     ...      ...      ...      ...      ...      ...   \n",
       "204715    8.98    8.95    8.91    68.19    70.01    71.77    73.51    75.43   \n",
       "204716    9.22    9.28    9.34    65.14    65.91    66.75    67.66    69.26   \n",
       "204717    9.99   10.28   10.56    64.38    65.32    66.42    67.63    68.86   \n",
       "204718   11.32   11.59   11.85    66.31    67.12    67.86    68.56    69.32   \n",
       "204719   11.72   11.98   12.22    66.83    67.62    68.48    69.39    70.45   \n",
       "\n",
       "        WDIR160  WDIR180  WDIR200  WDIR220   WSP077  \n",
       "0        199.19   200.58   202.12   203.56   9.5875  \n",
       "1        196.24   197.43   198.82   200.15   9.5420  \n",
       "2        210.27   211.53   213.00   214.41   9.5635  \n",
       "3        239.97   243.79   248.15   252.29   8.6480  \n",
       "4        294.38   295.20   296.10   296.97  10.5195  \n",
       "...         ...      ...      ...      ...      ...  \n",
       "204715    77.51    79.19    80.42    81.66   7.2100  \n",
       "204716    71.39    73.91    77.21    80.33   7.6320  \n",
       "204717    70.12    71.61    73.48    75.36   7.8705  \n",
       "204718    70.14    71.02    72.03    73.09   9.2455  \n",
       "204719    71.62    72.92    74.46    76.01   9.5330  \n",
       "\n",
       "[204720 rows x 20 columns]"
      ]
     },
     "execution_count": 180,
     "metadata": {},
     "output_type": "execute_result"
    }
   ],
   "source": []
  },
  {
   "cell_type": "code",
   "execution_count": 183,
   "metadata": {},
   "outputs": [
    {
     "ename": "KeyError",
     "evalue": "Timestamp('2007-07-22 03:00:00')",
     "output_type": "error",
     "traceback": [
      "\u001b[1;31m---------------------------------------------------------------------------\u001b[0m",
      "\u001b[1;31mTypeError\u001b[0m                                 Traceback (most recent call last)",
      "File \u001b[1;32mc:\\Users\\Lilian Bittar\\AppData\\Local\\Programs\\Python\\Python311\\Lib\\site-packages\\pandas\\core\\indexes\\datetimes.py:532\u001b[0m, in \u001b[0;36mDatetimeIndex._disallow_mismatched_indexing\u001b[1;34m(self, key)\u001b[0m\n\u001b[0;32m    530\u001b[0m \u001b[39mtry\u001b[39;00m:\n\u001b[0;32m    531\u001b[0m     \u001b[39m# GH#36148\u001b[39;00m\n\u001b[1;32m--> 532\u001b[0m     \u001b[39mself\u001b[39;49m\u001b[39m.\u001b[39;49m_data\u001b[39m.\u001b[39;49m_assert_tzawareness_compat(key)\n\u001b[0;32m    533\u001b[0m \u001b[39mexcept\u001b[39;00m \u001b[39mTypeError\u001b[39;00m \u001b[39mas\u001b[39;00m err:\n",
      "File \u001b[1;32mc:\\Users\\Lilian Bittar\\AppData\\Local\\Programs\\Python\\Python311\\Lib\\site-packages\\pandas\\core\\arrays\\datetimes.py:748\u001b[0m, in \u001b[0;36mDatetimeArray._assert_tzawareness_compat\u001b[1;34m(self, other)\u001b[0m\n\u001b[0;32m    747\u001b[0m \u001b[39melif\u001b[39;00m other_tz \u001b[39mis\u001b[39;00m \u001b[39mNone\u001b[39;00m:\n\u001b[1;32m--> 748\u001b[0m     \u001b[39mraise\u001b[39;00m \u001b[39mTypeError\u001b[39;00m(\n\u001b[0;32m    749\u001b[0m         \u001b[39m\"\u001b[39m\u001b[39mCannot compare tz-naive and tz-aware datetime-like objects\u001b[39m\u001b[39m\"\u001b[39m\n\u001b[0;32m    750\u001b[0m     )\n",
      "\u001b[1;31mTypeError\u001b[0m: Cannot compare tz-naive and tz-aware datetime-like objects",
      "\nThe above exception was the direct cause of the following exception:\n",
      "\u001b[1;31mKeyError\u001b[0m                                  Traceback (most recent call last)",
      "\u001b[1;32md:\\repos\\mal-assignment-3-1\\Assignment-3.ipynb Cell 57\u001b[0m line \u001b[0;36m1\n\u001b[0;32m     <a href='vscode-notebook-cell:/d%3A/repos/mal-assignment-3-1/Assignment-3.ipynb#Y211sZmlsZQ%3D%3D?line=13'>14</a>\u001b[0m \u001b[39m# data_mast_risoe[data_mast_risoe.index.isin(risoe_overlapping_timestamps)]\u001b[39;00m\n\u001b[0;32m     <a href='vscode-notebook-cell:/d%3A/repos/mal-assignment-3-1/Assignment-3.ipynb#Y211sZmlsZQ%3D%3D?line=14'>15</a>\u001b[0m \u001b[39mfor\u001b[39;00m ts \u001b[39min\u001b[39;00m risoe_overlapping_timestamps:\n\u001b[1;32m---> <a href='vscode-notebook-cell:/d%3A/repos/mal-assignment-3-1/Assignment-3.ipynb#Y211sZmlsZQ%3D%3D?line=15'>16</a>\u001b[0m     mast_row \u001b[39m=\u001b[39m data_mast_risoe\u001b[39m.\u001b[39;49mloc[ts][[\u001b[39m'\u001b[39m\u001b[39mwd77\u001b[39m\u001b[39m'\u001b[39m, \u001b[39m'\u001b[39m\u001b[39mws77\u001b[39m\u001b[39m'\u001b[39m]]\n\u001b[0;32m     <a href='vscode-notebook-cell:/d%3A/repos/mal-assignment-3-1/Assignment-3.ipynb#Y211sZmlsZQ%3D%3D?line=16'>17</a>\u001b[0m     meso_row \u001b[39m=\u001b[39m data_meso_risoe[data_meso_risoe[\u001b[39m'\u001b[39m\u001b[39mTIMESTAMP\u001b[39m\u001b[39m'\u001b[39m] \u001b[39m==\u001b[39m ts][[\u001b[39m'\u001b[39m\u001b[39mWSP77\u001b[39m\u001b[39m'\u001b[39m]]\n\u001b[0;32m     <a href='vscode-notebook-cell:/d%3A/repos/mal-assignment-3-1/Assignment-3.ipynb#Y211sZmlsZQ%3D%3D?line=17'>18</a>\u001b[0m     combined \u001b[39m=\u001b[39m pd\u001b[39m.\u001b[39mconcat(mast_row, meso_row, axis\u001b[39m=\u001b[39m\u001b[39m0\u001b[39m)\n",
      "File \u001b[1;32mc:\\Users\\Lilian Bittar\\AppData\\Local\\Programs\\Python\\Python311\\Lib\\site-packages\\pandas\\core\\indexing.py:1103\u001b[0m, in \u001b[0;36m_LocationIndexer.__getitem__\u001b[1;34m(self, key)\u001b[0m\n\u001b[0;32m   1100\u001b[0m axis \u001b[39m=\u001b[39m \u001b[39mself\u001b[39m\u001b[39m.\u001b[39maxis \u001b[39mor\u001b[39;00m \u001b[39m0\u001b[39m\n\u001b[0;32m   1102\u001b[0m maybe_callable \u001b[39m=\u001b[39m com\u001b[39m.\u001b[39mapply_if_callable(key, \u001b[39mself\u001b[39m\u001b[39m.\u001b[39mobj)\n\u001b[1;32m-> 1103\u001b[0m \u001b[39mreturn\u001b[39;00m \u001b[39mself\u001b[39;49m\u001b[39m.\u001b[39;49m_getitem_axis(maybe_callable, axis\u001b[39m=\u001b[39;49maxis)\n",
      "File \u001b[1;32mc:\\Users\\Lilian Bittar\\AppData\\Local\\Programs\\Python\\Python311\\Lib\\site-packages\\pandas\\core\\indexing.py:1343\u001b[0m, in \u001b[0;36m_LocIndexer._getitem_axis\u001b[1;34m(self, key, axis)\u001b[0m\n\u001b[0;32m   1341\u001b[0m \u001b[39m# fall thru to straight lookup\u001b[39;00m\n\u001b[0;32m   1342\u001b[0m \u001b[39mself\u001b[39m\u001b[39m.\u001b[39m_validate_key(key, axis)\n\u001b[1;32m-> 1343\u001b[0m \u001b[39mreturn\u001b[39;00m \u001b[39mself\u001b[39;49m\u001b[39m.\u001b[39;49m_get_label(key, axis\u001b[39m=\u001b[39;49maxis)\n",
      "File \u001b[1;32mc:\\Users\\Lilian Bittar\\AppData\\Local\\Programs\\Python\\Python311\\Lib\\site-packages\\pandas\\core\\indexing.py:1293\u001b[0m, in \u001b[0;36m_LocIndexer._get_label\u001b[1;34m(self, label, axis)\u001b[0m\n\u001b[0;32m   1291\u001b[0m \u001b[39mdef\u001b[39;00m \u001b[39m_get_label\u001b[39m(\u001b[39mself\u001b[39m, label, axis: AxisInt):\n\u001b[0;32m   1292\u001b[0m     \u001b[39m# GH#5567 this will fail if the label is not present in the axis.\u001b[39;00m\n\u001b[1;32m-> 1293\u001b[0m     \u001b[39mreturn\u001b[39;00m \u001b[39mself\u001b[39;49m\u001b[39m.\u001b[39;49mobj\u001b[39m.\u001b[39;49mxs(label, axis\u001b[39m=\u001b[39;49maxis)\n",
      "File \u001b[1;32mc:\\Users\\Lilian Bittar\\AppData\\Local\\Programs\\Python\\Python311\\Lib\\site-packages\\pandas\\core\\generic.py:4095\u001b[0m, in \u001b[0;36mNDFrame.xs\u001b[1;34m(self, key, axis, level, drop_level)\u001b[0m\n\u001b[0;32m   4093\u001b[0m             new_index \u001b[39m=\u001b[39m index[loc]\n\u001b[0;32m   4094\u001b[0m \u001b[39melse\u001b[39;00m:\n\u001b[1;32m-> 4095\u001b[0m     loc \u001b[39m=\u001b[39m index\u001b[39m.\u001b[39;49mget_loc(key)\n\u001b[0;32m   4097\u001b[0m     \u001b[39mif\u001b[39;00m \u001b[39misinstance\u001b[39m(loc, np\u001b[39m.\u001b[39mndarray):\n\u001b[0;32m   4098\u001b[0m         \u001b[39mif\u001b[39;00m loc\u001b[39m.\u001b[39mdtype \u001b[39m==\u001b[39m np\u001b[39m.\u001b[39mbool_:\n",
      "File \u001b[1;32mc:\\Users\\Lilian Bittar\\AppData\\Local\\Programs\\Python\\Python311\\Lib\\site-packages\\pandas\\core\\indexes\\datetimes.py:552\u001b[0m, in \u001b[0;36mDatetimeIndex.get_loc\u001b[1;34m(self, key)\u001b[0m\n\u001b[0;32m    548\u001b[0m     key \u001b[39m=\u001b[39m NaT\n\u001b[0;32m    550\u001b[0m \u001b[39mif\u001b[39;00m \u001b[39misinstance\u001b[39m(key, \u001b[39mself\u001b[39m\u001b[39m.\u001b[39m_data\u001b[39m.\u001b[39m_recognized_scalars):\n\u001b[0;32m    551\u001b[0m     \u001b[39m# needed to localize naive datetimes\u001b[39;00m\n\u001b[1;32m--> 552\u001b[0m     \u001b[39mself\u001b[39;49m\u001b[39m.\u001b[39;49m_disallow_mismatched_indexing(key)\n\u001b[0;32m    553\u001b[0m     key \u001b[39m=\u001b[39m Timestamp(key)\n\u001b[0;32m    555\u001b[0m \u001b[39melif\u001b[39;00m \u001b[39misinstance\u001b[39m(key, \u001b[39mstr\u001b[39m):\n",
      "File \u001b[1;32mc:\\Users\\Lilian Bittar\\AppData\\Local\\Programs\\Python\\Python311\\Lib\\site-packages\\pandas\\core\\indexes\\datetimes.py:534\u001b[0m, in \u001b[0;36mDatetimeIndex._disallow_mismatched_indexing\u001b[1;34m(self, key)\u001b[0m\n\u001b[0;32m    532\u001b[0m     \u001b[39mself\u001b[39m\u001b[39m.\u001b[39m_data\u001b[39m.\u001b[39m_assert_tzawareness_compat(key)\n\u001b[0;32m    533\u001b[0m \u001b[39mexcept\u001b[39;00m \u001b[39mTypeError\u001b[39;00m \u001b[39mas\u001b[39;00m err:\n\u001b[1;32m--> 534\u001b[0m     \u001b[39mraise\u001b[39;00m \u001b[39mKeyError\u001b[39;00m(key) \u001b[39mfrom\u001b[39;00m \u001b[39merr\u001b[39;00m\n",
      "\u001b[1;31mKeyError\u001b[0m: Timestamp('2007-07-22 03:00:00')"
     ]
    }
   ],
   "source": [
    "risoe_overlapping_timestamps = []\n",
    "\n",
    "meso_risoe_timestamps = set(data_meso_risoe['TIMESTAMP'].values)\n",
    "mast_risoe_timestamps = set(data_mast_risoe.index.values)\n",
    "\n",
    "for ts in meso_risoe_timestamps:\n",
    "    if ts not in mast_risoe_timestamps:\n",
    "        continue\n",
    "    risoe_overlapping_timestamps.append(ts)\n",
    "\n",
    "risoe_overlapping_timestamps = pd.Series(risoe_overlapping_timestamps)\n",
    "\n",
    "risoe_data = pd.DataFrame()\n",
    "# data_mast_risoe[data_mast_risoe.index.isin(risoe_overlapping_timestamps)]\n",
    "for ts in risoe_overlapping_timestamps:\n",
    "    mast_row = data_mast_risoe.loc[ts][['wd77', 'ws77']]\n",
    "    meso_row = data_meso_risoe[data_meso_risoe['TIMESTAMP'] == ts][['WSP77']]\n",
    "    combined = pd.concat(mast_row, meso_row, axis=0)\n",
    "    risoe_data.loc[ts] = combined\n",
    "risoe_data"
   ]
  },
  {
   "cell_type": "code",
   "execution_count": null,
   "metadata": {},
   "outputs": [],
   "source": [
    "data_meso_risoe_overlap"
   ]
  },
  {
   "cell_type": "code",
   "execution_count": null,
   "metadata": {},
   "outputs": [],
   "source": [
    "data_mast_risoe_resampled_overlap"
   ]
  },
  {
   "cell_type": "code",
   "execution_count": null,
   "metadata": {},
   "outputs": [],
   "source": []
  },
  {
   "cell_type": "code",
   "execution_count": null,
   "metadata": {},
   "outputs": [],
   "source": [
    "import pandas as pd\n",
    "\n",
    "# Reload the meso_Risoe data since the execution state was reset\n",
    "meso_risoe_path = '/mnt/data/meso_Risoe.csv'\n",
    "meso_risoe_data = pd.read_csv(meso_risoe_path, parse_dates=['TIMESTAMP'])\n",
    "\n",
    "# Re-resample the wind speed data since the execution state was reset\n",
    "data_mast_risoe_resampled = risoe_m_all_df[['ws44', 'ws77', 'ws125']].resample('H').mean()\n",
    "\n",
    "# Find the maximum of the two start timestamps and the minimum of the two end timestamps\n",
    "start_meso = meso_risoe_data['TIMESTAMP'].min()\n",
    "end_meso = meso_risoe_data['TIMESTAMP'].max()\n",
    "\n",
    "start_mast = data_mast_risoe_resampled.index.min()\n",
    "end_mast = data_mast_risoe_resampled.index.max()\n",
    "\n",
    "# Determine the overlapping period\n",
    "start_overlap = max(start_meso, start_mast)\n",
    "end_overlap = min(end_meso, end_mast)\n",
    "\n",
    "# Filter the dataframes to include only the overlapping period\n",
    "data_meso_risoe_overlap = meso_risoe_data[(meso_risoe_data['TIMESTAMP'] >= start_overlap) & (meso_risoe_data['TIMESTAMP'] <= end_overlap)]\n",
    "data_mast_risoe_resampled_overlap = data_mast_risoe_resampled[(data_mast_risoe_resampled.index >= start_overlap) & (data_mast_risoe_resampled.index <= end_overlap)]\n",
    "\n",
    "# Display the overlapping period and the shapes of the original and filtered dataframes\n",
    "(start_overlap, end_overlap), (meso_risoe_data.shape, data_meso_risoe_overlap.shape, data_mast_risoe_resampled.shape, data_mast_risoe_resampled_overlap.shape)\n",
    "\n",
    "\n",
    "# Identify the overlapping period between the meso data and the resampled mast data\n",
    "# Note: The meso data was loaded and checked earlier as 'meso_risoe_data'\n",
    "\n",
    "# Find the maximum of the two start timestamps and the minimum of the two end timestamps\n",
    "start_meso = meso_risoe_data['TIMESTAMP'].min()\n",
    "end_meso = meso_risoe_data['TIMESTAMP'].max()\n",
    "\n",
    "start_mast = data_mast_risoe_resampled.index.min()\n",
    "end_mast = data_mast_risoe_resampled.index.max()\n",
    "\n",
    "# Determine the overlapping period\n",
    "start_overlap = max(start_meso, start_mast)\n",
    "end_overlap = min(end_meso, end_mast)\n",
    "\n",
    "# Filter the dataframes to include only the overlapping period\n",
    "data_meso_risoe_overlap = meso_risoe_data[(meso_risoe_data['TIMESTAMP'] >= start_overlap) & (meso_risoe_data['TIMESTAMP'] <= end_overlap)]\n",
    "data_mast_risoe_resampled_overlap = data_mast_risoe_resampled[(data_mast_risoe_resampled.index >= start_overlap) & (data_mast_risoe_resampled.index <= end_overlap)]\n",
    "resampled_wd_overlap = resampled_wd[(resampled_wd.index >= start_overlap) & (resampled_wd.index <= end_overlap)]\n",
    "\n",
    "# Display the overlapping period and the shapes of the original and filtered dataframes\n",
    "(start_overlap, end_overlap), (meso_risoe_data.shape, data_meso_risoe_overlap.shape, data_mast_risoe_resampled.shape, data_mast_risoe_resampled_overlap.shape, resampled_wd.shape, resampled_wd_overlap.shape)\n"
   ]
  }
 ],
 "metadata": {
  "kernelspec": {
   "display_name": "ml_env",
   "language": "python",
   "name": "python3"
  },
  "language_info": {
   "codemirror_mode": {
    "name": "ipython",
    "version": 3
   },
   "file_extension": ".py",
   "mimetype": "text/x-python",
   "name": "python",
   "nbconvert_exporter": "python",
   "pygments_lexer": "ipython3",
   "version": "3.11.2"
  },
  "orig_nbformat": 4
 },
 "nbformat": 4,
 "nbformat_minor": 2
}
